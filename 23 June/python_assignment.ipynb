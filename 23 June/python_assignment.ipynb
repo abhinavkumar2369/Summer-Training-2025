{
 "cells": [
  {
   "cell_type": "markdown",
   "id": "c9778264-e50f-488d-b231-5507626f4236",
   "metadata": {},
   "source": [
    "## Patterns"
   ]
  },
  {
   "cell_type": "code",
   "execution_count": null,
   "id": "a017fff0-f17e-4787-bf39-321096453ea1",
   "metadata": {},
   "outputs": [],
   "source": []
  },
  {
   "cell_type": "code",
   "execution_count": 13,
   "id": "e64b8532-100e-4abc-801b-50fbf8cc755b",
   "metadata": {},
   "outputs": [
    {
     "name": "stdout",
     "output_type": "stream",
     "text": [
      "\n",
      "1  \n",
      "2  3  \n",
      "4  5  6  \n",
      "7  8  9  10 \n",
      "11 12 13 14 15 \n"
     ]
    }
   ],
   "source": [
    "n = 5\n",
    "count = 1\n",
    "\n",
    "for a in range(n+1):\n",
    "    for b in range(a):\n",
    "        if (count<10):\n",
    "            print(count, end=\"  \")\n",
    "        else:\n",
    "            print(count, end=\" \")\n",
    "        count = count + 1\n",
    "    print()"
   ]
  },
  {
   "cell_type": "code",
   "execution_count": null,
   "id": "407e1b0b-76fd-401b-87d0-6f60fcb33d9e",
   "metadata": {},
   "outputs": [],
   "source": []
  },
  {
   "cell_type": "code",
   "execution_count": null,
   "id": "01e95d58-414e-4191-b6e0-8d0ef4951d53",
   "metadata": {},
   "outputs": [],
   "source": []
  },
  {
   "cell_type": "code",
   "execution_count": 27,
   "id": "2f4447a9-865e-4c31-aee0-1feb969708fd",
   "metadata": {},
   "outputs": [
    {
     "name": "stdout",
     "output_type": "stream",
     "text": [
      "A B C D E E D C B A \n",
      "A B C D     D C B A \n",
      "A B C         C B A \n",
      "A B             B A \n",
      "A                 A \n"
     ]
    }
   ],
   "source": [
    "char = 65\n",
    "n = 5\n",
    "\n",
    "for d in range(n):\n",
    "    for a in range(n - d):\n",
    "        print(chr(char + a), end=\" \")\n",
    "    for b in range(d * 2):\n",
    "        print(\" \", end=\" \")\n",
    "    for c in range(n - d - 1, -1, -1):\n",
    "        print(chr(char + c), end=\" \")\n",
    "    print()"
   ]
  },
  {
   "cell_type": "code",
   "execution_count": null,
   "id": "5ceb8ac7-ed48-452a-b522-dedf5e69470c",
   "metadata": {},
   "outputs": [],
   "source": []
  }
 ],
 "metadata": {
  "kernelspec": {
   "display_name": "Python 3 (ipykernel)",
   "language": "python",
   "name": "python3"
  },
  "language_info": {
   "codemirror_mode": {
    "name": "ipython",
    "version": 3
   },
   "file_extension": ".py",
   "mimetype": "text/x-python",
   "name": "python",
   "nbconvert_exporter": "python",
   "pygments_lexer": "ipython3",
   "version": "3.12.7"
  }
 },
 "nbformat": 4,
 "nbformat_minor": 5
}
